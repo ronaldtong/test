{
 "cells": [
  {
   "cell_type": "markdown",
   "metadata": {},
   "source": [
    "# 1. Upload the 'test.csv' file at the 'upload' button\n",
    "# 2. It will replace the blank row with 'nothing here'\n",
    "# 3. Lastly it will spit out an 'For CAD.csv'"
   ]
  },
  {
   "cell_type": "code",
   "execution_count": 29,
   "metadata": {},
   "outputs": [],
   "source": [
    "from ipywidgets import FileUpload\n",
    "from IPython.display import display, Javascript, HTML\n",
    "from ipywidgets import widgets\n",
    "import pandas as pd\n",
    "import io, base64\n",
    "# https://stackoverflow.com/questions/31893930/download-csv-from-an-ipython-notebook"
   ]
  },
  {
   "cell_type": "code",
   "execution_count": 30,
   "metadata": {},
   "outputs": [
    {
     "data": {
      "application/vnd.jupyter.widget-view+json": {
       "model_id": "d91e034f08644560b7e908475f1d59b3",
       "version_major": 2,
       "version_minor": 0
      },
      "text/plain": [
       "FileUpload(value={}, accept='.csv', description='Upload')"
      ]
     },
     "metadata": {},
     "output_type": "display_data"
    }
   ],
   "source": [
    "upload = FileUpload(accept='.csv')\n",
    "display(upload)\n",
    "run = widgets.Button(description=\"Run\")\n",
    "out = widgets.Output()"
   ]
  },
  {
   "cell_type": "code",
   "execution_count": 34,
   "metadata": {},
   "outputs": [
    {
     "data": {
      "application/vnd.jupyter.widget-view+json": {
       "model_id": "b4a68395ecdb4dd79b40aa60effab8d4",
       "version_major": 2,
       "version_minor": 0
      },
      "text/plain": [
       "VBox(children=(HBox(children=(Button(description='Run', style=ButtonStyle()),)), Output(outputs=({'output_type…"
      ]
     },
     "metadata": {},
     "output_type": "display_data"
    }
   ],
   "source": [
    "def operation(_):\n",
    "    with out:\n",
    "        uploaded_file = list(upload.value.values())[0]\n",
    "        csv_text = io.StringIO(uploaded_file['content'].decode('utf-8'))\n",
    "\n",
    "        # df = pd.read_csv('test.csv', skip_blank_lines=False)\n",
    "        df = pd.read_csv(csv_text, skip_blank_lines=False)\n",
    "\n",
    "        df.fillna('nothing here', inplace=True)\n",
    "#         print(df)\n",
    "\n",
    "        # df.to_csv('output.csv', index=False)           \n",
    "            \n",
    "        display(create_download_link(df))\n",
    "\n",
    "def create_download_link(df, title = \"For CAD\", filename = \"For CAD.csv\"):  \n",
    "    csv = df.to_csv(index =False)\n",
    "    b64 = base64.b64encode(csv.encode())\n",
    "    payload = b64.decode()\n",
    "    html = '<a download=\"{filename}\" href=\"data:text/csv;base64,{payload}\" target=\"_blank\">{title}</a>'\n",
    "    html = html.format(payload=payload,title=title,filename=filename)\n",
    "    return HTML(html)\n",
    "        \n",
    "run.on_click(operation)\n",
    "buttons = widgets.HBox([run])\n",
    "widgets.VBox([buttons, out])"
   ]
  },
  {
   "cell_type": "code",
   "execution_count": 32,
   "metadata": {},
   "outputs": [],
   "source": [
    "# df = pd.DataFrame([1,2,3])\n",
    "\n",
    "# from IPython.display import Javascript\n",
    "# js_download = \"\"\"\n",
    "# var csv = '%s';\n",
    "\n",
    "# var filename = 'results.csv';\n",
    "# var blob = new Blob([csv], { type: 'text/csv;charset=utf-8;' });\n",
    "# if (navigator.msSaveBlob) { // IE 10+\n",
    "#     navigator.msSaveBlob(blob, filename);\n",
    "# } else {\n",
    "#     var link = document.createElement(\"a\");\n",
    "#     if (link.download !== undefined) { // feature detection\n",
    "#         // Browsers that support HTML5 download attribute\n",
    "#         var url = URL.createObjectURL(blob);\n",
    "#         link.setAttribute(\"href\", url);\n",
    "#         link.setAttribute(\"download\", filename);\n",
    "#         link.style.visibility = 'hidden';\n",
    "#         document.body.appendChild(link);\n",
    "#         link.click();\n",
    "#         document.body.removeChild(link);\n",
    "#     }\n",
    "# }\n",
    "# \"\"\" % df.to_csv(index=False)#.replace('\\n','\\\\n').replace(\"'\",\"\\'\")\n",
    "\n",
    "# Javascript(js_download)\n",
    "# # print('done')"
   ]
  },
  {
   "cell_type": "code",
   "execution_count": 33,
   "metadata": {},
   "outputs": [],
   "source": [
    "# import base64\n",
    "# import pandas as pd\n",
    "# from IPython.display import HTML\n",
    "\n",
    "# df = pd.DataFrame([1,2,3])\n",
    "\n",
    "# def create_download_link( df, title = \"Download CSV file\", filename = \"data.csv\"):\n",
    "#     csv = df.to_csv()\n",
    "#     b64 = base64.b64encode(csv.encode())\n",
    "#     payload = b64.decode()\n",
    "#     html = '<a download=\"{filename}\" href=\"data:text/csv;base64,{payload}\" target=\"_blank\">{title}</a>'\n",
    "#     html = html.format(payload=payload,title=title,filename=filename)\n",
    "#     return HTML(html)\n",
    "\n",
    "# create_download_link(df)\n",
    "# # # display(HTML('<h1>Hello, world!</h1>'))\n",
    "# # # print('done1')"
   ]
  },
  {
   "cell_type": "code",
   "execution_count": null,
   "metadata": {},
   "outputs": [],
   "source": []
  },
  {
   "cell_type": "code",
   "execution_count": null,
   "metadata": {},
   "outputs": [],
   "source": []
  },
  {
   "cell_type": "code",
   "execution_count": null,
   "metadata": {},
   "outputs": [],
   "source": []
  }
 ],
 "metadata": {
  "kernelspec": {
   "display_name": "Python 3",
   "language": "python",
   "name": "python3"
  },
  "language_info": {
   "codemirror_mode": {
    "name": "ipython",
    "version": 3
   },
   "file_extension": ".py",
   "mimetype": "text/x-python",
   "name": "python",
   "nbconvert_exporter": "python",
   "pygments_lexer": "ipython3",
   "version": "3.8.0"
  }
 },
 "nbformat": 4,
 "nbformat_minor": 4
}
