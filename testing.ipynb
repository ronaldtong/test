{
 "cells": [
  {
   "cell_type": "markdown",
   "metadata": {},
   "source": [
    "# 1. Upload the 'test.csv' file at the 'upload' button\n",
    "# 2. It will replace the blank row with 'hello'\n",
    "# 3. Lastly it will spit out an 'output.csv'"
   ]
  },
  {
   "cell_type": "code",
   "execution_count": 10,
   "metadata": {},
   "outputs": [],
   "source": [
    "from ipywidgets import FileUpload\n",
    "from IPython.display import display, Javascript\n",
    "from ipywidgets import widgets\n",
    "import pandas as pd\n",
    "import io\n",
    "from IPython.display import Javascript"
   ]
  },
  {
   "cell_type": "code",
   "execution_count": 9,
   "metadata": {},
   "outputs": [
    {
     "data": {
      "application/vnd.jupyter.widget-view+json": {
       "model_id": "7b50cf863aa54f85b7b13e5f421fa6b9",
       "version_major": 2,
       "version_minor": 0
      },
      "text/plain": [
       "FileUpload(value={}, accept='.csv', description='Upload')"
      ]
     },
     "metadata": {},
     "output_type": "display_data"
    }
   ],
   "source": [
    "upload = FileUpload(accept='.csv')\n",
    "display(upload)"
   ]
  },
  {
   "cell_type": "code",
   "execution_count": null,
   "metadata": {},
   "outputs": [],
   "source": [
    "def run_all(upload):\n",
    "    uploaded_file = list(upload.value.values())[0]\n",
    "    csv_text = io.StringIO(uploaded_file['content'].decode('utf-8'))\n",
    "\n",
    "    # df = pd.read_csv('test.csv', skip_blank_lines=False)\n",
    "    df = pd.read_csv(csv_text, skip_blank_lines=False)\n",
    "\n",
    "    df.fillna('hello', inplace=True)\n",
    "\n",
    "    # df.to_csv('output.csv', index=False)\n",
    "\n",
    "\n",
    "    js_download = \"\"\"\n",
    "    var csv = '%s';\n",
    "\n",
    "    var filename = 'output.csv';\n",
    "    var blob = new Blob([csv], { type: 'text/csv;charset=utf-8;' });\n",
    "    if (navigator.msSaveBlob) { // IE 10+\n",
    "        navigator.msSaveBlob(blob, filename);\n",
    "    } else {\n",
    "        var link = document.createElement(\"a\");\n",
    "        if (link.download !== undefined) { // feature detection\n",
    "            // Browsers that support HTML5 download attribute\n",
    "            var url = URL.createObjectURL(blob);\n",
    "            link.setAttribute(\"href\", url);\n",
    "            link.setAttribute(\"download\", filename);\n",
    "            link.style.visibility = 'hidden';\n",
    "            document.body.appendChild(link);\n",
    "            link.click();\n",
    "            document.body.removeChild(link);\n",
    "        }\n",
    "    }\n",
    "    \"\"\" % df.to_csv(index=False).replace('\\n','\\\\n').replace(\"'\",\"\\'\")\n",
    "\n",
    "    Javascript(js_download)\n",
    "    print('done!')\n",
    "\n",
    "button = widgets.Button(description=\"Execute\")\n",
    "button.on_click(run_all)\n",
    "display(button)"
   ]
  },
  {
   "cell_type": "code",
   "execution_count": null,
   "metadata": {},
   "outputs": [],
   "source": []
  },
  {
   "cell_type": "code",
   "execution_count": 6,
   "metadata": {},
   "outputs": [],
   "source": []
  },
  {
   "cell_type": "code",
   "execution_count": null,
   "metadata": {},
   "outputs": [],
   "source": []
  },
  {
   "cell_type": "code",
   "execution_count": null,
   "metadata": {},
   "outputs": [],
   "source": []
  },
  {
   "cell_type": "code",
   "execution_count": null,
   "metadata": {},
   "outputs": [],
   "source": []
  }
 ],
 "metadata": {
  "kernelspec": {
   "display_name": "Python 3",
   "language": "python",
   "name": "python3"
  },
  "language_info": {
   "codemirror_mode": {
    "name": "ipython",
    "version": 3
   },
   "file_extension": ".py",
   "mimetype": "text/x-python",
   "name": "python",
   "nbconvert_exporter": "python",
   "pygments_lexer": "ipython3",
   "version": "3.7.1"
  }
 },
 "nbformat": 4,
 "nbformat_minor": 4
}
